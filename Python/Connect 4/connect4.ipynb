{
 "cells": [
  {
   "cell_type": "code",
   "execution_count": 2,
   "metadata": {},
   "outputs": [],
   "source": [
    "# we want to code connect4\n",
    "import numpy as np\n",
    "import random\n",
    "import time\n",
    "import matplotlib.pyplot as plt\n",
    "from numba import njit\n",
    "\n",
    "\n",
    "def plot_board(board):\n",
    "    plt.figure(figsize=(2.5, 2.5))\n",
    "    board = np.array(board)  # Assuming self.board is the attribute containing your board data\n",
    "\n",
    "    for i in range(6):\n",
    "        for j in range(7):\n",
    "            x = j\n",
    "            y = 6-i\n",
    "            if board[i][j] == 1:\n",
    "                plt.plot(x, y, 'o', color='green', markersize=14)\n",
    "            elif board[i][j] == 2:\n",
    "                plt.plot(x, y, 'o', color='red', markersize=14)\n",
    "    # change so we plot a bit more in each direction\n",
    "    plt.xlim(-0.5, 6.5)\n",
    "    plt.ylim(0.5, 6.5)\n",
    "\n",
    "    # set background to dark gray\n",
    "    ax = plt.gca()\n",
    "    ax.set_facecolor((1, 1, 1))\n",
    "\n",
    "    # remove the ticks and axis labels\n",
    "    plt.tick_params(axis='both', which='both', bottom=False, top=False, labelbottom=False, right=False, left=False, labelleft=False)\n",
    "    \n",
    "    plt.show()\n",
    "\n",
    "\n",
    "class Connect4:\n",
    "    def __init__(self):\n",
    "        self.board = np.array([[0 for i in range(7)] for j in range(6)])\n",
    "        self.player = 1\n",
    "        self.winner = 0\n",
    "        self.moves_made = []\n",
    "\n",
    "    def __str__(self):\n",
    "        s = \"\"\n",
    "        for i in range(6):\n",
    "            for j in range(7):\n",
    "                s += str(self.board[i][j]) + \" \"\n",
    "            s += \"\\n\"\n",
    "        return s\n",
    "\n",
    "    def switch_player(self):\n",
    "        self.player = 3 - self.player\n",
    "\n",
    "    def play(self, move): # we will use a function to play the game,\n",
    "        if self.board[0][move] != 0:\n",
    "            print(\"Invalid move\")\n",
    "            return False\n",
    "        for i in range(5, -1, -1):\n",
    "            if self.board[i][move] == 0:\n",
    "                self.board[i][move] = self.player\n",
    "                break\n",
    "        self.moves_made.append(move)\n",
    "        self.switch_player()\n",
    "        return True\n",
    "\n",
    "    def plot(self):\n",
    "        plot_board(self.board)\n",
    "\n",
    "\n",
    "@njit\n",
    "def check_winner(board):\n",
    "    # returns 0 if no winner, 1 if player 1 won, 2 if player 2 won\n",
    "\n",
    "    # check horizontal\n",
    "    for i in range(6):\n",
    "        for j in range(4):\n",
    "            if board[i][j] != 0 and board[i][j] == board[i][j + 1] and board[i][j] == board[i][j + 2] and board[i][j] == board[i][j + 3]:\n",
    "                return board[i][j]\n",
    "\n",
    "    # check vertical\n",
    "    for i in range(3):\n",
    "        for j in range(7):\n",
    "            if board[i][j] != 0 and board[i][j] == board[i + 1][j] and board[i][j] == board[i + 2][j] and board[i][j] == board[i + 3][j]:\n",
    "                return board[i][j]\n",
    "\n",
    "    # check diagonal\n",
    "    for i in range(3):\n",
    "        for j in range(4):\n",
    "            if board[i][j] != 0 and board[i][j] == board[i + 1][j + 1] and board[i][j] == board[i + 2][j + 2] and board[i][j] == board[i + 3][j + 3]:\n",
    "                return board[i][j]\n",
    "\n",
    "    # check other diagonal\n",
    "    for i in range(3):\n",
    "        for j in range(3, 7):\n",
    "            if board[i][j] != 0 and board[i][j] == board[i + 1][j - 1] and board[i][j] == board[i + 2][j - 2] and board[i][j] == board[i + 3][j - 3]:\n",
    "                return board[i][j]\n",
    "\n",
    "    return 0\n",
    "\n",
    "\n",
    "def play_game(bot1, bot2, start_player = 0, visualize = False, print_moves = False, halt = False):\n",
    "    if start_player == 0:\n",
    "        start_player = random.randint(1, 2)\n",
    "    \n",
    "    game = Connect4()\n",
    "    game.player = start_player\n",
    "    winner = 0\n",
    "\n",
    "    while True:\n",
    "        botname = bot1.__name__ if game.player == 1 else bot2.__name__\n",
    "        if game.player == 1:\n",
    "            move = bot1(game.board, game.player, game.moves_made[-1] if len(game.moves_made) > 0 else None)\n",
    "        else:\n",
    "            move = bot2(game.board, game.player, game.moves_made[-1] if len(game.moves_made) > 0 else None)\n",
    "        flag = game.play(move)\n",
    "        if flag == False:\n",
    "            winner = 3 - game.player\n",
    "            print(f\"{botname} ({3-game.player}) made an invalid move, and therefore loses\")\n",
    "            return winner, start_player, game.moves_made\n",
    "\n",
    "        if print_moves:\n",
    "            print(f\"{botname} ({3-game.player}) played {move}\")\n",
    "\n",
    "        if visualize == \"print\":\n",
    "            print(game)\n",
    "        if visualize == \"plot\":\n",
    "            game.plot()\n",
    "\n",
    "        winner = check_winner(game.board)\n",
    "        if winner != 0:\n",
    "            break\n",
    "        if 0 not in game.board[0]:\n",
    "            winner = 0\n",
    "            break\n",
    "\n",
    "        if halt:\n",
    "            inp = input(\"Press enter to continue, type 'q' to quit\")\n",
    "            if inp == \"q\":\n",
    "                break\n",
    "\n",
    "    # print the name of the bot (function name)\n",
    "    if print_moves:\n",
    "        if winner == 1:\n",
    "            print(\"The winner is\",bot1.__name__)\n",
    "        elif winner == 2:\n",
    "            print(\"The winner is\",bot2.__name__)\n",
    "        else:\n",
    "            print(\"It's a draw\")\n",
    "\n",
    "    return winner, start_player, game.moves_made\n",
    "\n",
    "\n",
    "def playback_game(moves_made, start_player, halt = False):\n",
    "    game = Connect4()\n",
    "    game.player = start_player\n",
    "    for move in moves_made:\n",
    "        game.play(move)\n",
    "        game.plot()\n",
    "        print(game)\n",
    "        if halt:\n",
    "            inp = input(\"Press enter to continue, type 'q' to quit\")\n",
    "            if inp == \"q\":\n",
    "                break\n",
    "\n",
    "\n",
    "def human_bot(board, player, last_move):\n",
    "    while True:\n",
    "        move = int(input(f\"Last move done was {last_move}. \\nhuman_bot({player}), enter your move: \"))\n",
    "        if board[0][move] == 0:\n",
    "            return move\n",
    "        else:\n",
    "            print(\"Invalid move\")\n",
    "\n",
    "\n",
    "# def simulate_games(bot1, bot2, N = 100, start_player = 0):\n",
    "#     # simulates N games between bot1 and bot2\n",
    "#     # returns the number of games won by bot1 and bot2\n",
    "\n",
    "#     bot1_wins = 0\n",
    "#     bot2_wins = 0\n",
    "#     draws = 0\n",
    "#     games = []\n",
    "\n",
    "#     for i in range(N):\n",
    "#         winner, start_player, moves_made = play_game(bot1, bot2, start_player = start_player)\n",
    "#         games.append([winner, start_player, moves_made])\n",
    "#         if winner == 1:\n",
    "#             bot1_wins += 1\n",
    "#         elif winner == 2:\n",
    "#             bot2_wins += 1\n",
    "#         else:\n",
    "#             draws += 1\n",
    "\n",
    "#     return bot1_wins, bot2_wins, draws, games\n",
    "def simulate_games(bot1, bot2, N = 100, starting_player = 0, print_time = False):\n",
    "    # simulates N games between bot1 and bot2\n",
    "    # returns the number of games won by bot1 and bot2\n",
    "\n",
    "    bot1_wins = 0\n",
    "    bot2_wins = 0\n",
    "    draws = 0\n",
    "    games = []\n",
    "    t = time.time()\n",
    "    for i in range(N):\n",
    "        if print_time and i % (N//10) == 0:\n",
    "            print(f\"Game {i}/{N} started after {time.time() - t:.2f} seconds\")\n",
    "\n",
    "        winner, start_player, moves_made = play_game(bot1, bot2, start_player = starting_player)\n",
    "        games.append([winner, start_player, moves_made])\n",
    "        if winner == 1:\n",
    "            bot1_wins += 1\n",
    "        elif winner == 2:\n",
    "            bot2_wins += 1\n",
    "        else:\n",
    "            draws += 1\n",
    "\n",
    "    stats = [bot1_wins, bot2_wins, draws]\n",
    "    return stats, games\n",
    "\n",
    "# # example of how to play a game:\n",
    "# # here we play a game between two humans, after each move the move made (0-6) is printed and the board is plotted\n",
    "# play_game(human_bot, human_bot, visualize = \"plot\", print_moves = True, halt = False)\n"
   ]
  },
  {
   "cell_type": "code",
   "execution_count": 3,
   "metadata": {},
   "outputs": [],
   "source": [
    "def check_connect_four(board):\n",
    "    def check_line(line):\n",
    "        for i in range(len(line) - 3):\n",
    "            if line[i] == line[i + 1] == line[i + 2] == line[i + 3] and line[i] != 0:\n",
    "                return True\n",
    "        return False\n",
    "\n",
    "    def is_board_full():\n",
    "        return all(cell != 0 for row in board for cell in row)\n",
    "\n",
    "    def check_winner():\n",
    "        # Check horizontal lines\n",
    "        for row in board:\n",
    "            if check_line(row):\n",
    "                return True\n",
    "\n",
    "        # Check vertical lines\n",
    "        for col in range(len(board[0])):\n",
    "            if check_line([board[row][col] for row in range(len(board))]):\n",
    "                return True\n",
    "\n",
    "        # Check diagonal lines (from top-left to bottom-right)\n",
    "        for row in range(len(board) - 3):\n",
    "            for col in range(len(board[0]) - 3):\n",
    "                if check_line([board[row + i][col + i] for i in range(4)]):\n",
    "                    return True\n",
    "\n",
    "        # Check diagonal lines (from top-right to bottom-left)\n",
    "        for row in range(3, len(board)):\n",
    "            for col in range(len(board[0]) - 3):\n",
    "                if check_line([board[row - i][col + i] for i in range(4)]):\n",
    "                    return True\n",
    "\n",
    "        return False\n",
    "    if check_winner():\n",
    "        return True\n",
    "    \n",
    "    else:\n",
    "        return False"
   ]
  },
  {
   "cell_type": "code",
   "execution_count": 4,
   "metadata": {},
   "outputs": [],
   "source": [
    "class Memory:\n",
    "    def __init__(self, current):\n",
    "        self.current = current\n",
    "\n",
    "memory = Memory(0)\n",
    "def tetris_bot(board, player, last_move):\n",
    "    priority = [3, 4, 2, 1, 5, 6, 0]\n",
    "    for i in range(len(priority)):\n",
    "        if board[0][priority[i]] == 0:\n",
    "            return priority[i]\n",
    "        \n",
    "def nokia(board, player, last_move):\n",
    "    liste = [0,1,2,3,4,5,6,5,4,3,2,1]\n",
    "    while True:\n",
    "        if board[0][liste[memory.current]] == 0:\n",
    "            a = memory.current\n",
    "            memory.current+=1\n",
    "            memory.current%=12\n",
    "            return liste[a]\n",
    "        else:\n",
    "            memory.current+=1\n",
    "            memory.current%=12\n",
    "        \n",
    "def moist_bot(board, player, last_move):\n",
    "    a = random.randint(0,6)\n",
    "    try:\n",
    "        if board[0][last_move] == 0 and a<4:\n",
    "            return last_move\n",
    "        else:\n",
    "            while True:\n",
    "                a = random.randint(0,6)\n",
    "                if board[0][a] == 0:\n",
    "                    return a\n",
    "    except:\n",
    "        return random.randint(2,4)\n",
    "\n",
    "def anish_giri(board, player, last_move):\n",
    "    dict = {\n",
    "    0:6,\n",
    "    1:5,\n",
    "    2:4,\n",
    "    3:3,\n",
    "    6:0,\n",
    "    5:1,\n",
    "    4:2\n",
    "    }\n",
    "\n",
    "    try:\n",
    "        if board[0][dict[last_move]] == 0:\n",
    "            return dict[last_move]\n",
    "        else:\n",
    "            while True:\n",
    "                a = random.randint(0,6)\n",
    "                if board[0][a] == 0:\n",
    "                    return a\n",
    "    except:\n",
    "        while True:\n",
    "            a = random.randint(0,6)\n",
    "            if board[0][a] == 0:\n",
    "                return a    \n",
    "\n",
    "\n",
    "def zig(board, player, last_move):\n",
    "    a = random.randint(-1,1)\n",
    "    try:\n",
    "        if board[0][last_move+a] == 0:\n",
    "            if last_move+a == -1:\n",
    "                return 6\n",
    "            return last_move+a\n",
    "        \n",
    "        else:\n",
    "            while True:\n",
    "                a = random.randint(0,6)\n",
    "                if board[0][a] == 0:\n",
    "                    return a\n",
    "    except:\n",
    "        while True:\n",
    "            a = random.randint(0,6)\n",
    "            if board[0][a] == 0:\n",
    "                return a\n"
   ]
  },
  {
   "cell_type": "code",
   "execution_count": 153,
   "metadata": {},
   "outputs": [],
   "source": [
    "import copy\n",
    "\n",
    "\n",
    "def morad(board, player, last_move):\n",
    "    if last_move == None:\n",
    "        return 3\n",
    "\n",
    "    spill = Connect4()\n",
    "    spill.board = copy.deepcopy(board)\n",
    "    spill.player = player\n",
    "    original_board = copy.deepcopy(board)\n",
    "\n",
    "    my_dict = {}\n",
    "\n",
    "\n",
    "    for a in range(7):\n",
    "        my_dict[a]=0\n",
    "        spill.board = copy.deepcopy(original_board)\n",
    "        spill.player = player\n",
    "\n",
    "        if spill.board[0][a]==0:\n",
    "            \n",
    "            spill.play(a)\n",
    "\n",
    "            save = copy.deepcopy(spill.board)\n",
    "            if check_connect_four(spill.board):\n",
    "                return a\n",
    "\n",
    "        else:\n",
    "            continue\n",
    "        \n",
    "        for b in range(7):\n",
    "            # print(save)\n",
    "            spill.board = copy.deepcopy(save)\n",
    "            \n",
    "            spill.player = 3-player\n",
    "\n",
    "            if spill.board[0][b]==0:\n",
    "                spill.play(b)\n",
    "\n",
    "                save1 = copy.deepcopy(spill.board)\n",
    "                if check_connect_four(spill.board) and a!=b:\n",
    "                    return b\n",
    "\n",
    "\n",
    "    for a in range(7):\n",
    "        my_dict[a]=0\n",
    "        spill.board = copy.deepcopy(original_board)\n",
    "        spill.player = player\n",
    "\n",
    "        if spill.board[0][a]==0:\n",
    "            \n",
    "            spill.play(a)\n",
    "\n",
    "            save = copy.deepcopy(spill.board)\n",
    "\n",
    "        else:\n",
    "            continue\n",
    "        \n",
    "        for b in range(7):\n",
    "            # print(save)\n",
    "            spill.board = copy.deepcopy(save)\n",
    "            \n",
    "            spill.player = 3-player\n",
    "\n",
    "            if spill.board[0][b]==0:\n",
    "                spill.play(b)\n",
    "\n",
    "                save1 = copy.deepcopy(spill.board)\n",
    "\n",
    "            else:\n",
    "                continue\n",
    "            \n",
    "            for c in range(7):\n",
    "                spill.board = copy.deepcopy(save1)\n",
    "                spill.player = player\n",
    "\n",
    "                if spill.board[0][c]==0:\n",
    "                    spill.play(c)\n",
    "                    save2 = copy.deepcopy(spill.board)\n",
    "\n",
    "                    if check_connect_four(spill.board):\n",
    "                        my_dict[a]+=1\n",
    "                        continue\n",
    "                else:\n",
    "                    continue\n",
    "\n",
    "            \n",
    "                for d in range(7):\n",
    "                    spill.board = copy.deepcopy(save2)\n",
    "                    spill.player = 3-player\n",
    "\n",
    "                    if spill.board[0][d]==0:\n",
    "                        spill.play(d) \n",
    "                        save3 = copy.deepcopy(spill.board)\n",
    "                        if check_connect_four(spill.board):\n",
    "                            my_dict[a]-=1\n",
    "                            continue\n",
    "\n",
    "                    else:\n",
    "                        continue\n",
    "\n",
    "                    for e in range(7):\n",
    "                        spill.board = copy.deepcopy(save3)\n",
    "                        spill.player = player\n",
    "\n",
    "                        if spill.board[0][e]==0:\n",
    "                            spill.play(e)\n",
    "                            save4 = copy.deepcopy(spill.board)\n",
    "\n",
    "\n",
    "                            if check_connect_four(spill.board):\n",
    "                                my_dict[a]+=1\n",
    "                                continue\n",
    "                        else:\n",
    "                            continue\n",
    "\n",
    "                        for f in range(7):\n",
    "                            spill.board = copy.deepcopy(save4)\n",
    "                            spill.player = 3-player\n",
    "\n",
    "\n",
    "                            if spill.board[0][f]==0:\n",
    "                                spill.play(f) \n",
    "                                save5 = copy.deepcopy(spill.board)\n",
    "\n",
    "\n",
    "                                if check_connect_four(spill.board):\n",
    "                                    my_dict[a]-=1\n",
    "                                    continue\n",
    "                            else:\n",
    "                                continue\n",
    "\n",
    "                            for g in range(7):\n",
    "                                spill.board = copy.deepcopy(save5)\n",
    "                                spill.player = player\n",
    "\n",
    "\n",
    "                                if spill.board[0][g]==0:\n",
    "                                    spill.play(g)\n",
    "                                    if check_connect_four(spill.board):\n",
    "                                        my_dict[a]+=1\n",
    "                                        continue\n",
    "                                else:\n",
    "                                    continue\n",
    "        \n",
    "    sorted_dict = dict(sorted(my_dict.items(), key=lambda item: item[1], reverse=True))\n",
    "    for key in sorted_dict:          \n",
    "        if board[0][key]==0:          \n",
    "            return key\n",
    "        \n",
    "\n",
    "# matrix = np.array([\n",
    "#     [0, 0, 0, 0, 0, 0, 0],\n",
    "#     [0, 0, 0, 0, 0, 0, 0],\n",
    "#     [2, 0, 0, 0, 0, 0, 0],\n",
    "#     [1, 0, 0, 1, 0, 0, 0],\n",
    "#     [1, 2, 0, 2, 2, 0, 0],\n",
    "#     [1, 2, 1, 1, 2, 0, 2]\n",
    "# ])\n",
    "\n",
    "# matrix = np.array([\n",
    "#     [0, 0, 0, 0, 0, 0, 0],\n",
    "#     [0, 0, 0, 0, 0, 0, 0],\n",
    "#     [0, 0, 0, 0, 0, 0, 0],\n",
    "#     [0, 0, 0, 0, 0, 0, 0],\n",
    "#     [0, 1, 0, 0, 0, 0, 0],\n",
    "#     [0, 1, 0, 0, 2, 2, 2]\n",
    "# ])\n",
    "\n",
    "# matrix = np.array([\n",
    "#     [0, 0, 0, 0, 0, 0, 0],\n",
    "#     [0, 0, 1, 2, 0, 0, 0],\n",
    "#     [2, 0, 2, 2, 2, 0, 0],\n",
    "#     [1, 0, 2, 1, 2, 0, 0],\n",
    "#     [1, 1, 2, 1, 1, 0, 0],\n",
    "#     [2, 2, 1, 1, 1, 2, 0]\n",
    "# ])\n",
    "\n",
    "# game = Connect4()\n",
    "# game.board = matrix\n",
    "\n",
    "\n",
    "# print(morad(game.board, 1, 0))\n",
    "# print(check_connect_four(matrix))\n",
    "\n"
   ]
  },
  {
   "cell_type": "code",
   "execution_count": 157,
   "metadata": {},
   "outputs": [
    {
     "data": {
      "text/plain": [
       "(10,\n",
       " 0,\n",
       " 0,\n",
       " [[1, 2, [3, 0, 0, 0, 1, 0, 6, 0, 1, 0]],\n",
       "  [1, 2, [4, 0, 1, 0, 1, 0, 1, 0]],\n",
       "  [1, 2, [1, 0, 1, 0, 1, 1, 0, 0, 6, 0, 6, 6, 2, 6, 5, 6, 6, 3, 4, 3, 2, 2]],\n",
       "  [1, 2, [1, 0, 6, 0, 0, 1, 2, 2, 1, 3, 4, 3]],\n",
       "  [1, 2, [2, 0, 0, 0, 6, 0, 0, 2, 1, 3, 4, 1, 0, 1]],\n",
       "  [1, 2, [0, 0, 0, 0, 1, 3, 3, 4, 3, 5, 4, 2]],\n",
       "  [1, 2, [2, 0, 0, 0, 0, 0, 0, 1, 1, 2, 3, 2, 1, 2, 3, 2]],\n",
       "  [1, 2, [0, 0, 6, 0, 1, 0, 0, 3, 3, 2, 3, 4, 5, 2, 1, 1]],\n",
       "  [1, 2, [2, 0, 0, 0, 1, 0, 0, 3, 3, 2, 2, 1, 0, 1]],\n",
       "  [1, 2, [5, 0, 6, 3, 2, 0, 0, 3, 3, 2, 1, 1]]])"
      ]
     },
     "execution_count": 157,
     "metadata": {},
     "output_type": "execute_result"
    }
   ],
   "source": [
    "# play_game(zig, tetris_bot, visualize = \"plot\", print_moves = True, halt = True)\n",
    "simulate_games(morad, zig, N = 10, start_player = 2)\n",
    "# play_game(morad, zig, 0, \"plot\")"
   ]
  },
  {
   "cell_type": "code",
   "execution_count": 143,
   "metadata": {},
   "outputs": [
    {
     "data": {
      "image/png": "[encoded data removed]",
      "text/plain": [
       "<Figure size 250x250 with 1 Axes>"
      ]
     },
     "metadata": {},
     "output_type": "display_data"
    },
    {
     "name": "stdout",
     "output_type": "stream",
     "text": [
      "0 0 0 0 0 0 0 \n",
      "0 0 0 0 0 0 0 \n",
      "0 0 0 0 0 0 0 \n",
      "0 0 0 0 0 0 0 \n",
      "0 0 0 0 0 0 0 \n",
      "2 0 0 0 0 0 0 \n",
      "\n"
     ]
    },
    {
     "data": {
      "image/png": "[encoded data removed]",
      "text/plain": [
       "<Figure size 250x250 with 1 Axes>"
      ]
     },
     "metadata": {},
     "output_type": "display_data"
    },
    {
     "name": "stdout",
     "output_type": "stream",
     "text": [
      "0 0 0 0 0 0 0 \n",
      "0 0 0 0 0 0 0 \n",
      "0 0 0 0 0 0 0 \n",
      "0 0 0 0 0 0 0 \n",
      "1 0 0 0 0 0 0 \n",
      "2 0 0 0 0 0 0 \n",
      "\n"
     ]
    },
    {
     "data": {
      "image/png": "[encoded data removed]",
      "text/plain": [
       "<Figure size 250x250 with 1 Axes>"
      ]
     },
     "metadata": {},
     "output_type": "display_data"
    },
    {
     "name": "stdout",
     "output_type": "stream",
     "text": [
      "0 0 0 0 0 0 0 \n",
      "0 0 0 0 0 0 0 \n",
      "0 0 0 0 0 0 0 \n",
      "0 0 0 0 0 0 0 \n",
      "1 0 0 0 0 0 0 \n",
      "2 2 0 0 0 0 0 \n",
      "\n"
     ]
    },
    {
     "data": {
      "image/png": "[encoded data removed]",
      "text/plain": [
       "<Figure size 250x250 with 1 Axes>"
      ]
     },
     "metadata": {},
     "output_type": "display_data"
    },
    {
     "name": "stdout",
     "output_type": "stream",
     "text": [
      "0 0 0 0 0 0 0 \n",
      "0 0 0 0 0 0 0 \n",
      "0 0 0 0 0 0 0 \n",
      "1 0 0 0 0 0 0 \n",
      "1 0 0 0 0 0 0 \n",
      "2 2 0 0 0 0 0 \n",
      "\n"
     ]
    },
    {
     "data": {
      "image/png": "[encoded data removed]",
      "text/plain": [
       "<Figure size 250x250 with 1 Axes>"
      ]
     },
     "metadata": {},
     "output_type": "display_data"
    },
    {
     "name": "stdout",
     "output_type": "stream",
     "text": [
      "0 0 0 0 0 0 0 \n",
      "0 0 0 0 0 0 0 \n",
      "2 0 0 0 0 0 0 \n",
      "1 0 0 0 0 0 0 \n",
      "1 0 0 0 0 0 0 \n",
      "2 2 0 0 0 0 0 \n",
      "\n"
     ]
    },
    {
     "data": {
      "image/png": "[encoded data removed]",
      "text/plain": [
       "<Figure size 250x250 with 1 Axes>"
      ]
     },
     "metadata": {},
     "output_type": "display_data"
    },
    {
     "name": "stdout",
     "output_type": "stream",
     "text": [
      "0 0 0 0 0 0 0 \n",
      "0 0 0 0 0 0 0 \n",
      "2 0 0 0 0 0 0 \n",
      "1 0 0 0 0 0 0 \n",
      "1 0 0 0 0 0 0 \n",
      "2 2 1 0 0 0 0 \n",
      "\n"
     ]
    },
    {
     "data": {
      "image/png": "[encoded data removed]",
      "text/plain": [
       "<Figure size 250x250 with 1 Axes>"
      ]
     },
     "metadata": {},
     "output_type": "display_data"
    },
    {
     "name": "stdout",
     "output_type": "stream",
     "text": [
      "0 0 0 0 0 0 0 \n",
      "0 0 0 0 0 0 0 \n",
      "2 0 0 0 0 0 0 \n",
      "1 0 0 0 0 0 0 \n",
      "1 0 2 0 0 0 0 \n",
      "2 2 1 0 0 0 0 \n",
      "\n"
     ]
    },
    {
     "data": {
      "image/png": "[encoded data removed]",
      "text/plain": [
       "<Figure size 250x250 with 1 Axes>"
      ]
     },
     "metadata": {},
     "output_type": "display_data"
    },
    {
     "name": "stdout",
     "output_type": "stream",
     "text": [
      "0 0 0 0 0 0 0 \n",
      "0 0 0 0 0 0 0 \n",
      "2 0 0 0 0 0 0 \n",
      "1 0 0 0 0 0 0 \n",
      "1 0 2 0 0 0 0 \n",
      "2 2 1 1 0 0 0 \n",
      "\n"
     ]
    },
    {
     "data": {
      "image/png": "[encoded data removed]",
      "text/plain": [
       "<Figure size 250x250 with 1 Axes>"
      ]
     },
     "metadata": {},
     "output_type": "display_data"
    },
    {
     "name": "stdout",
     "output_type": "stream",
     "text": [
      "0 0 0 0 0 0 0 \n",
      "0 0 0 0 0 0 0 \n",
      "2 0 0 0 0 0 0 \n",
      "1 0 2 0 0 0 0 \n",
      "1 0 2 0 0 0 0 \n",
      "2 2 1 1 0 0 0 \n",
      "\n"
     ]
    },
    {
     "data": {
      "image/png": "[encoded data removed]",
      "text/plain": [
       "<Figure size 250x250 with 1 Axes>"
      ]
     },
     "metadata": {},
     "output_type": "display_data"
    },
    {
     "name": "stdout",
     "output_type": "stream",
     "text": [
      "0 0 0 0 0 0 0 \n",
      "0 0 0 0 0 0 0 \n",
      "2 0 0 0 0 0 0 \n",
      "1 0 2 0 0 0 0 \n",
      "1 0 2 0 0 0 0 \n",
      "2 2 1 1 1 0 0 \n",
      "\n"
     ]
    },
    {
     "data": {
      "image/png": "[encoded data removed]",
      "text/plain": [
       "<Figure size 250x250 with 1 Axes>"
      ]
     },
     "metadata": {},
     "output_type": "display_data"
    },
    {
     "name": "stdout",
     "output_type": "stream",
     "text": [
      "0 0 0 0 0 0 0 \n",
      "0 0 0 0 0 0 0 \n",
      "2 0 0 0 0 0 0 \n",
      "1 0 2 0 0 0 0 \n",
      "1 0 2 0 0 0 0 \n",
      "2 2 1 1 1 2 0 \n",
      "\n"
     ]
    },
    {
     "data": {
      "image/png": "[encoded data removed]",
      "text/plain": [
       "<Figure size 250x250 with 1 Axes>"
      ]
     },
     "metadata": {},
     "output_type": "display_data"
    },
    {
     "name": "stdout",
     "output_type": "stream",
     "text": [
      "0 0 0 0 0 0 0 \n",
      "0 0 0 0 0 0 0 \n",
      "2 0 0 0 0 0 0 \n",
      "1 0 2 0 0 0 0 \n",
      "1 0 2 0 1 0 0 \n",
      "2 2 1 1 1 2 0 \n",
      "\n"
     ]
    },
    {
     "data": {
      "image/png": "[encoded data removed]",
      "text/plain": [
       "<Figure size 250x250 with 1 Axes>"
      ]
     },
     "metadata": {},
     "output_type": "display_data"
    },
    {
     "name": "stdout",
     "output_type": "stream",
     "text": [
      "0 0 0 0 0 0 0 \n",
      "0 0 0 0 0 0 0 \n",
      "2 0 0 0 0 0 0 \n",
      "1 0 2 0 2 0 0 \n",
      "1 0 2 0 1 0 0 \n",
      "2 2 1 1 1 2 0 \n",
      "\n"
     ]
    },
    {
     "data": {
      "image/png": "[encoded data removed]",
      "text/plain": [
       "<Figure size 250x250 with 1 Axes>"
      ]
     },
     "metadata": {},
     "output_type": "display_data"
    },
    {
     "name": "stdout",
     "output_type": "stream",
     "text": [
      "0 0 0 0 0 0 0 \n",
      "0 0 0 0 0 0 0 \n",
      "2 0 0 0 0 0 0 \n",
      "1 0 2 0 2 0 0 \n",
      "1 0 2 1 1 0 0 \n",
      "2 2 1 1 1 2 0 \n",
      "\n"
     ]
    },
    {
     "data": {
      "image/png": "[encoded data removed]",
      "text/plain": [
       "<Figure size 250x250 with 1 Axes>"
      ]
     },
     "metadata": {},
     "output_type": "display_data"
    },
    {
     "name": "stdout",
     "output_type": "stream",
     "text": [
      "0 0 0 0 0 0 0 \n",
      "0 0 0 0 0 0 0 \n",
      "2 0 0 0 2 0 0 \n",
      "1 0 2 0 2 0 0 \n",
      "1 0 2 1 1 0 0 \n",
      "2 2 1 1 1 2 0 \n",
      "\n"
     ]
    },
    {
     "data": {
      "image/png": "[encoded data removed]",
      "text/plain": [
       "<Figure size 250x250 with 1 Axes>"
      ]
     },
     "metadata": {},
     "output_type": "display_data"
    },
    {
     "name": "stdout",
     "output_type": "stream",
     "text": [
      "0 0 0 0 0 0 0 \n",
      "0 0 0 0 0 0 0 \n",
      "2 0 0 0 2 0 0 \n",
      "1 0 2 1 2 0 0 \n",
      "1 0 2 1 1 0 0 \n",
      "2 2 1 1 1 2 0 \n",
      "\n"
     ]
    },
    {
     "data": {
      "image/png": "[encoded data removed]",
      "text/plain": [
       "<Figure size 250x250 with 1 Axes>"
      ]
     },
     "metadata": {},
     "output_type": "display_data"
    },
    {
     "name": "stdout",
     "output_type": "stream",
     "text": [
      "0 0 0 0 0 0 0 \n",
      "0 0 0 0 0 0 0 \n",
      "2 0 0 2 2 0 0 \n",
      "1 0 2 1 2 0 0 \n",
      "1 0 2 1 1 0 0 \n",
      "2 2 1 1 1 2 0 \n",
      "\n"
     ]
    },
    {
     "data": {
      "image/png": "[encoded data removed]",
      "text/plain": [
       "<Figure size 250x250 with 1 Axes>"
      ]
     },
     "metadata": {},
     "output_type": "display_data"
    },
    {
     "name": "stdout",
     "output_type": "stream",
     "text": [
      "0 0 0 0 0 0 0 \n",
      "0 0 0 0 0 0 0 \n",
      "2 0 0 2 2 0 0 \n",
      "1 0 2 1 2 0 0 \n",
      "1 1 2 1 1 0 0 \n",
      "2 2 1 1 1 2 0 \n",
      "\n"
     ]
    },
    {
     "data": {
      "image/png": "[encoded data removed]",
      "text/plain": [
       "<Figure size 250x250 with 1 Axes>"
      ]
     },
     "metadata": {},
     "output_type": "display_data"
    },
    {
     "name": "stdout",
     "output_type": "stream",
     "text": [
      "0 0 0 0 0 0 0 \n",
      "0 0 0 0 0 0 0 \n",
      "2 0 2 2 2 0 0 \n",
      "1 0 2 1 2 0 0 \n",
      "1 1 2 1 1 0 0 \n",
      "2 2 1 1 1 2 0 \n",
      "\n"
     ]
    },
    {
     "data": {
      "image/png": "[encoded data removed]",
      "text/plain": [
       "<Figure size 250x250 with 1 Axes>"
      ]
     },
     "metadata": {},
     "output_type": "display_data"
    },
    {
     "name": "stdout",
     "output_type": "stream",
     "text": [
      "0 0 0 0 0 0 0 \n",
      "0 0 1 0 0 0 0 \n",
      "2 0 2 2 2 0 0 \n",
      "1 0 2 1 2 0 0 \n",
      "1 1 2 1 1 0 0 \n",
      "2 2 1 1 1 2 0 \n",
      "\n"
     ]
    },
    {
     "data": {
      "image/png": "[encoded data removed]",
      "text/plain": [
       "<Figure size 250x250 with 1 Axes>"
      ]
     },
     "metadata": {},
     "output_type": "display_data"
    },
    {
     "name": "stdout",
     "output_type": "stream",
     "text": [
      "0 0 0 0 0 0 0 \n",
      "0 0 1 2 0 0 0 \n",
      "2 0 2 2 2 0 0 \n",
      "1 0 2 1 2 0 0 \n",
      "1 1 2 1 1 0 0 \n",
      "2 2 1 1 1 2 0 \n",
      "\n"
     ]
    },
    {
     "data": {
      "image/png": "[encoded data removed]",
      "text/plain": [
       "<Figure size 250x250 with 1 Axes>"
      ]
     },
     "metadata": {},
     "output_type": "display_data"
    },
    {
     "name": "stdout",
     "output_type": "stream",
     "text": [
      "0 0 0 0 0 0 0 \n",
      "0 0 1 2 0 0 0 \n",
      "2 0 2 2 2 0 0 \n",
      "1 1 2 1 2 0 0 \n",
      "1 1 2 1 1 0 0 \n",
      "2 2 1 1 1 2 0 \n",
      "\n"
     ]
    },
    {
     "data": {
      "image/png": "[encoded data removed]",
      "text/plain": [
       "<Figure size 250x250 with 1 Axes>"
      ]
     },
     "metadata": {},
     "output_type": "display_data"
    },
    {
     "name": "stdout",
     "output_type": "stream",
     "text": [
      "0 0 0 0 0 0 0 \n",
      "0 0 1 2 0 0 0 \n",
      "2 2 2 2 2 0 0 \n",
      "1 1 2 1 2 0 0 \n",
      "1 1 2 1 1 0 0 \n",
      "2 2 1 1 1 2 0 \n",
      "\n"
     ]
    }
   ],
   "source": [
    "playback_game([0, 0, 1, 0, 0, 2, 2, 3, 2, 4, 5, 4, 4, 3, 4, 3, 3, 1, 2, 2, 3, 1, 1], 2)\n",
    "\n",
    "#(2, 2, [0, 0, 1, 0, 0, 2, 2, 3, 2, 4, 5, 4, 4, 3, 4, 3, 3, 1, 2, 2, 3, 1, 1]\n",
    "#[2, 1, [0, 5, 1, 4, 2, 3, 6, 2, 1, 1, 0, 0, 0, 1, 6, 2, 3, 3]]"
   ]
  }
 ],
 "metadata": {
  "kernelspec": {
   "display_name": "Python 3",
   "language": "python",
   "name": "python3"
  },
  "language_info": {
   "codemirror_mode": {
    "name": "ipython",
    "version": 3
   },
   "file_extension": ".py",
   "mimetype": "text/x-python",
   "name": "python",
   "nbconvert_exporter": "python",
   "pygments_lexer": "ipython3",
   "version": "3.11.1"
  }
 },
 "nbformat": 4,
 "nbformat_minor": 2
}
