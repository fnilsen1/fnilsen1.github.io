{
 "cells": [
  {
   "cell_type": "markdown",
   "metadata": {
    "run_control": {
     "frozen": true
    }
   },
   "source": [
    "<nav class=\"navbar navbar-default\">\n",
    "  <div class=\"container-fluid\">\n",
    "    <div class=\"navbar-header\">\n",
    "      <a class=\"navbar-brand\" href=\"_Oving1.ipynb\">Øving 1</a>\n",
    "    </div>\n",
    "    <ul class=\"nav navbar-nav\">\n",
    "        <li><a href=\"Intro%20til%20jupyter.ipynb\">Intro til Jupyter</a></li>\n",
    "        <li><a href=\"Funksjoner%20og%20kalkulasjoner.ipynb\">Funksjoner og kalkulasjoner</a></li>\n",
    "        <li><a href=\"Plotting.ipynb\">Plotting</a></li>\n",
    "        <li><a href=\"Tall-%20og%20Typekonvertering.ipynb\">Tall- og Typekonvertering</a></li>\n",
    "        <li class = \"active\"><a href=\"Geometri.ipynb\">Geometri</a></li>\n",
    "        <li><a href=\"Variable.ipynb\">Variable</a></li>\n",
    "        <li><a href=\"Priser%20med%20og%20uten%20moms.ipynb\">Priser med og uten moms</a></li>\n",
    "        <li><a href=\"Avrundingsfeil%20-%20subtraksjon.ipynb\">Avrundingsfeil - subtraksjon</a></li>\n",
    "        <li><a href=\"Avrundingsfeil%20-%20summering.ipynb\">Avrundingsfeil - summering</a></li>\n",
    "        <li><a href=\"Vitenskapelig%20notasjon.ipynb\">Vitenskapelig notasjon</a></li>\n",
    "        <li><a href=\"Tetraeder.ipynb\">Tetraeder</a></li>\n",
    "    </ul>\n",
    "  </div>\n",
    "</nav>\n",
    "\n",
    "# Geometri\n",
    "\n",
    "**Læringsmål:**\n",
    "\n",
    "* Funksjoner\n",
    "* Aritmetikk\n",
    "* Matplotlib"
   ]
  },
  {
   "cell_type": "markdown",
   "metadata": {
    "deletable": false,
    "editable": false,
    "run_control": {
     "frozen": true
    }
   },
   "source": [
    "## a)"
   ]
  },
  {
   "cell_type": "markdown",
   "metadata": {},
   "source": [
    "I denne oppgaven skal du lage **funksjoner** for å finne omkrets og areal av en sirkel med gitt radius $r$, og areal og volum av en sylinder med gitt radius $r$ og høyde $h$. Formlene for omkrets, areal og volum finner du under:\n",
    "\n",
    "- Omkretsen til en sirkel er gitt ved $ O = 2\\pi r $, hvor $ r $ er radiusen til sirkelen.\n",
    "- Arealet til en sirkel finner man med formelen $ A = \\pi r^2 $\n",
    "- Arealet til en sylinder finner man ved å plusse sammen arealet til sikrelen på topp og bunn av sylinderen og arealet av \"den utbrettede\" rektangelen. Se illustrasjon nedenfor. Formelen for arealet er $A = 2\\pi r^2 + 2\\pi rh$, hvor $r$ er radius, og $h$ er høyden til sylinderen.\n",
    "- Volumet av en sylinder finner man ved å multiplisere arealet av grunnflaten med høyden i sylinderen, eller med formelen $V = G \\cdot h = \\pi r^2 h$\n",
    "\n",
    "![img](../../resources/Images/sylinder.png)\n",
    "\n",
    "Du kan lese mer om areal og volum av sylinder på [Matematikk.org](https://www.matematikk.org/artikkel.html?tid=154998&within_tid=154319)"
   ]
  },
  {
   "cell_type": "markdown",
   "metadata": {
    "deletable": false,
    "run_control": {
     "frozen": true
    }
   },
   "source": [
    "Lag fire funksjoner `omkrets_sirkel(r)`, `areal_sirkel(r)`, `areal_sylinder(r, h)` og `volum_sylinder(r, h)`. Bruk **numpy** for verdien til $\\pi$.\n",
    "\n",
    "**_Skriv koden din i kodeblokken under_**"
   ]
  },
  {
   "cell_type": "code",
   "execution_count": 1,
   "metadata": {
    "ExecuteTime": {
     "end_time": "2019-07-01T11:56:48.846273Z",
     "start_time": "2019-07-01T11:56:48.833816Z"
    }
   },
   "outputs": [
    {
     "name": "stdout",
     "output_type": "stream",
     "text": [
      "3.141592653589793\n"
     ]
    }
   ],
   "source": [
    "# Skriv koden din her\n",
    "\n",
    "import numpy as np\n",
    "\n",
    "def omkrets_sirkel(r):\n",
    "    return\n",
    "\n",
    "def areal_sirkel(r):\n",
    "    return \n",
    "\n",
    "def areal_sylinder(r, h):\n",
    "    return \n",
    "\n",
    "def volum_sylinder(r, h):\n",
    "    return \n",
    "print(np.pi)"
   ]
  },
  {
   "cell_type": "markdown",
   "metadata": {},
   "source": [
    "Hvis koden din er skrevet rett skal du få følgende ouput av kodeblokken under:\n",
    "\n",
    "```py\n",
    "En sirkel med radius 5 har omkrets 31.41592653589793 og areal 78.53981633974483\n",
    "En sylinder med radius 5 og høyde 6 har areal 345.5751918948772 og volum 471.23889803846896\n",
    "```"
   ]
  },
  {
   "cell_type": "code",
   "execution_count": 2,
   "metadata": {
    "run_control": {
     "frozen": false
    }
   },
   "outputs": [
    {
     "name": "stdout",
     "output_type": "stream",
     "text": [
      "En sirkel med radius 5 har omkrets 31.41592653589793 og areal 78.53981633974483\n",
      "En sylinder med radius 5 og høyde 6 har areal 345.5751918948772 og volum 471.23889803846896\n"
     ]
    }
   ],
   "source": [
    "r = 5\n",
    "h = 6\n",
    "print(\"En sirkel med radius\", r, \"har omkrets\", omkrets_sirkel(r), \"og areal\", areal_sirkel(r))\n",
    "print(\"En sylinder med radius\", r, \"og høyde\", h, \"har areal\", areal_sylinder(r, h), \"og volum\", volum_sylinder(r, h))"
   ]
  },
  {
   "cell_type": "markdown",
   "metadata": {
    "ExecuteTime": {
     "end_time": "2019-07-01T11:57:35.984163Z",
     "start_time": "2019-07-01T11:57:35.979863Z"
    },
    "deletable": false,
    "editable": false,
    "run_control": {
     "frozen": true
    }
   },
   "source": [
    "#### Hint"
   ]
  },
  {
   "cell_type": "markdown",
   "metadata": {
    "deletable": false,
    "run_control": {
     "frozen": true
    }
   },
   "source": [
    "Formelene for areal og volum for sylinder innheholder mye likt som formlene for sirkel. Kan du gjenbruke kode?"
   ]
  },
  {
   "cell_type": "markdown",
   "metadata": {},
   "source": [
    "## b)"
   ]
  },
  {
   "cell_type": "markdown",
   "metadata": {},
   "source": [
    "I denne oppgaven skal du lage et plot som inneholder to grafer; en for arealet til en sirkel og en for arealet til en sylinder. Dette skal gjøres ved bruk av Matplotlib.\n",
    "\n",
    "Plot funksjonene `areal_sirkel` og `areal_sylinder` du lagde i oppgave **a)**, med radiusen `r` på x-aksen. Velg `r`-verdier selv, men bruk `np.linspace`. Velg også høyden `h` til sylinderet selv.\n",
    "\n",
    "*Eksempel på hvordan plottet kan se ut:*\n",
    "\n",
    "![img](../../Resources/Images/o1_geometri.png)\n",
    "\n",
    "***Skriv koden din i kodeblokken under***"
   ]
  },
  {
   "cell_type": "code",
   "execution_count": 14,
   "metadata": {},
   "outputs": [],
   "source": [
    "# Skriv koden din her"
   ]
  },
  {
   "cell_type": "markdown",
   "metadata": {
    "heading_collapsed": true
   },
   "source": [
    "### Hint"
   ]
  },
  {
   "cell_type": "markdown",
   "metadata": {
    "hidden": true
   },
   "source": [
    "**Hint 1:** Les tutorialen i oppagaven [Plotting](./Plotting.ipynb)\n",
    "\n",
    "**Hint 2:** Husk å importere `matplotlib.pyplot as plt` og `numpy as np`"
   ]
  }
 ],
 "metadata": {
  "kernelspec": {
   "display_name": "Python 3 (ipykernel)",
   "language": "python",
   "name": "python3"
  },
  "language_info": {
   "codemirror_mode": {
    "name": "ipython",
    "version": 3
   },
   "file_extension": ".py",
   "mimetype": "text/x-python",
   "name": "python",
   "nbconvert_exporter": "python",
   "pygments_lexer": "ipython3",
   "version": "3.11.1"
  },
  "toc": {
   "base_numbering": 1,
   "nav_menu": {},
   "number_sections": false,
   "sideBar": true,
   "skip_h1_title": false,
   "title_cell": "Table of Contents",
   "title_sidebar": "Contents",
   "toc_cell": false,
   "toc_position": {},
   "toc_section_display": true,
   "toc_window_display": false
  }
 },
 "nbformat": 4,
 "nbformat_minor": 2
}
